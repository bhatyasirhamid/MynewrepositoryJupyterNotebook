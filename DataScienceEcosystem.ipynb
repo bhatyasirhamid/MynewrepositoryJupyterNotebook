{
 "cells": [
  {
   "cell_type": "markdown",
   "id": "fe740bf9-7c59-4792-a76c-cb418bba454c",
   "metadata": {},
   "source": [
    "<html><body>Data Science Tools and Ecosystem</body></html>"
   ]
  },
  {
   "cell_type": "markdown",
   "id": "5c7d1d19-90aa-4c3b-b3c5-e8fd565e872a",
   "metadata": {},
   "source": [
    "In this notebook, Data Science Tools and Ecosystem are summarized"
   ]
  },
  {
   "cell_type": "markdown",
   "id": "11b066e4-2d03-4077-ae6f-0199ea821e41",
   "metadata": {},
   "source": [
    "In this notebook, Data Science Tools and Ecosystem are summarized."
   ]
  },
  {
   "cell_type": "markdown",
   "id": "80c5b080-cc59-440b-8976-9df3149c213e",
   "metadata": {},
   "source": [
    "Some of the popular languages that Data Scientists use are:\r",
    "1. Python\n",
    "2. R\n",
    "3. Julia "
   ]
  },
  {
   "cell_type": "markdown",
   "id": "2ff4c40f-cbd8-4dae-b969-8b597fd936b4",
   "metadata": {},
   "source": [
    "<html><body>Some of the commonly used libraries used by Data Scientists include\n",
    "<ol>\n",
    "    <li>Pandas</li>\n",
    "    <li>Numpy</li>\n",
    "    <li>Matplotlib</li>\n",
    "</ol>\n",
    "</body></html>"
   ]
  },
  {
   "cell_type": "markdown",
   "id": "c89b7f76-61fd-43a7-8427-de95f618020f",
   "metadata": {},
   "source": [
    "Some of the datascience tools are \n",
    "<htmL>\n",
    "    <body>\n",
    "        <table>\n",
    "            <tr><td>Rstudio</td></tr>\n",
    "            <tr><td>JupyterNotebook</td></tr>\n",
    "        </table>\n",
    "    </body>\n",
    "</htmL>"
   ]
  },
  {
   "cell_type": "markdown",
   "id": "ee7a4585-7d85-4875-a777-87be64a2a1f3",
   "metadata": {},
   "source": [
    "Below are a few examples of evaluating arithmetic expressions in Python.\n",
    "c=a+b\r\n"
   ]
  },
  {
   "cell_type": "code",
   "execution_count": 2,
   "id": "d6d9a333-44cc-4718-979a-f325aa74f974",
   "metadata": {},
   "outputs": [
    {
     "name": "stdout",
     "output_type": "stream",
     "text": [
      "17\n"
     ]
    }
   ],
   "source": [
    "#This a simple arithmetic expression to mutiply then add integers\n",
    "print((3*4)+5)"
   ]
  },
  {
   "cell_type": "code",
   "execution_count": 3,
   "id": "fd2961fe-7bf5-45de-81f2-c744622cba34",
   "metadata": {},
   "outputs": [
    {
     "name": "stdout",
     "output_type": "stream",
     "text": [
      "3.3333333333333335\n"
     ]
    }
   ],
   "source": [
    "#This will convert 200 minutes to hours by diving by 60\n",
    "print(200/60)"
   ]
  },
  {
   "cell_type": "markdown",
   "id": "e0289e19-a4c5-495e-a4b9-9f1a7a5619a6",
   "metadata": {},
   "source": [
    "<html>\n",
    "    <body>\n",
    "        <b>Objectives</b>\n",
    "        <ul>\n",
    "            <li> Python</li>\n",
    "            <li>R</li>\n",
    "            <li>C++</li>\n",
    "            <li>Java</li>\n",
    "            <li>Something </li>\n",
    "        </ul>\n",
    "    </body>\n",
    "</html>"
   ]
  },
  {
   "cell_type": "markdown",
   "id": "7677c68c-fdbd-497f-92e9-a7b6a28c09c8",
   "metadata": {},
   "source": [
    "<html>\n",
    "    <body>\n",
    "        <h2> Author </h2>\n",
    "        <label>Yasir Hamid</label>\n",
    "        </body>\n",
    "</html>"
   ]
  },
  {
   "cell_type": "code",
   "execution_count": null,
   "id": "4224486c-85be-4f06-9e3f-6df224c78d5f",
   "metadata": {},
   "outputs": [],
   "source": []
  }
 ],
 "metadata": {
  "kernelspec": {
   "display_name": "Python 3 (ipykernel)",
   "language": "python",
   "name": "python3"
  },
  "language_info": {
   "codemirror_mode": {
    "name": "ipython",
    "version": 3
   },
   "file_extension": ".py",
   "mimetype": "text/x-python",
   "name": "python",
   "nbconvert_exporter": "python",
   "pygments_lexer": "ipython3",
   "version": "3.11.7"
  }
 },
 "nbformat": 4,
 "nbformat_minor": 5
}
